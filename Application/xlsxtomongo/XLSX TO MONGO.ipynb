{
 "cells": [
  {
   "cell_type": "code",
   "execution_count": 6,
   "id": "63ba36da",
   "metadata": {},
   "outputs": [],
   "source": [
    "import pandas as pd\n",
    "from json import dump\n",
    "\n",
    "dic_full = {}\n",
    "\n",
    "for ind_sheet in range(0, 9):\n",
    "    # Chargement des descriptions\n",
    "    data_desc = pd.read_excel(\"bases.xlsx\", nrows=1, sheet_name=ind_sheet)\n",
    "    data_desc = data_desc[[\"ID\", \"NAME\", \"DESC\", \"PROD_TYPE\"]]\n",
    "\n",
    "    # Chargement des statistiques\n",
    "    data_level = pd.read_excel(\"bases.xlsx\", skiprows=4, sheet_name=ind_sheet)\n",
    "    # Transformation en dic\n",
    "    dic_desc = data_desc.to_dict('records')\n",
    "    dic_level = data_level.to_dict('records')\n",
    "    dic_full[ind_sheet] = {'INFO': dic_desc[0], 'STATS': dic_level}\n",
    "\n",
    "# Ecriture du fichier\n",
    "with open('buildings.json', 'w') as outfile:\n",
    "    dump([dic_full.get(key) for key in dic_full], outfile, indent=4)"
   ]
  },
  {
   "cell_type": "code",
   "execution_count": null,
   "id": "ff0a78a5",
   "metadata": {},
   "outputs": [],
   "source": []
  },
  {
   "cell_type": "code",
   "execution_count": null,
   "id": "8f924002",
   "metadata": {},
   "outputs": [],
   "source": []
  }
 ],
 "metadata": {
  "kernelspec": {
   "display_name": "Python 3",
   "language": "python",
   "name": "python3"
  },
  "language_info": {
   "codemirror_mode": {
    "name": "ipython",
    "version": 3
   },
   "file_extension": ".py",
   "mimetype": "text/x-python",
   "name": "python",
   "nbconvert_exporter": "python",
   "pygments_lexer": "ipython3",
   "version": "3.8.8"
  }
 },
 "nbformat": 4,
 "nbformat_minor": 5
}
