{
 "cells": [
  {
   "cell_type": "code",
   "execution_count": 2,
   "id": "63ba36da",
   "metadata": {},
   "outputs": [
    {
     "name": "stdout",
     "output_type": "stream",
     "text": [
      "   LEVEL  WOOD_COST  STONE_COST  IRON_COST  MAX_VILLAGER  MAX_STORAGE  PROD\n",
      "0      1          0           0          0             0           10     2\n",
      "1      2        100           0          0             0           20     2\n",
      "2      3        100         100          0             0           30     4\n",
      "3      4        400         400        100             0           40     4\n",
      "4      5        800         800        800             0           50     6\n",
      "   LEVEL  WOOD_COST  STONE_COST  IRON_COST  MAX_VILLAGER  MAX_STORAGE  PROD\n",
      "0      1        100           0          0             2          100    20\n",
      "1      2        200           0          0             3          200    20\n",
      "2      3        200         100          0             4          200    20\n",
      "3      4        200         200        100             5          400    20\n",
      "4      5        400         400        400             6          400    25\n",
      "   LEVEL  WOOD_COST  STONE_COST  IRON_COST  MAX_VILLAGER  MAX_STORAGE  PROD\n",
      "0      1        100           0          0             2          100    20\n",
      "1      2        100         100          0             3          200    20\n",
      "2      3        200         100          0             4          200    20\n",
      "3      4        200         200        100             5          300    20\n",
      "4      5        400         400        400             6          400    25\n",
      "   LEVEL  WOOD_COST  STONE_COST  IRON_COST  MAX_VILLAGER  MAX_STORAGE  PROD\n",
      "0      1        100           0          0             2          100    15\n",
      "1      2        100         100          0             3          150    15\n",
      "2      3        200         100          0             4          200    15\n",
      "3      4        200         200        100             5          300    20\n",
      "4      5        400         400        400             6          400    25\n",
      "   LEVEL  WOOD_COST  STONE_COST  IRON_COST  MAX_VILLAGER  MAX_STORAGE  PROD\n",
      "0      1        100           0          0             2          100    15\n",
      "1      2        100         100          0             3          150    15\n",
      "2      3        200         100          0             4          200    15\n",
      "3      4        200         200        100             5          300    20\n",
      "4      5        400         400        400             6          400    25\n",
      "   LEVEL  WOOD_COST  STONE_COST  IRON_COST  MAX_VILLAGER  MAX_STORAGE  PROD\n",
      "0      1        100         100          0             2         1000     0\n",
      "1      2        200         100          0             3         1250     0\n",
      "2      3        200         200          0             4         1500     0\n",
      "3      4        400         400        200             5         1750     0\n",
      "4      5        600         600        400             6         2000     0\n",
      "   LEVEL  WOOD_COST  STONE_COST  IRON_COST  MAX_VILLAGER  MAX_STORAGE  PROD\n",
      "0      1        100         100          0             2           10     0\n",
      "1      2        200         100          0             2           12     0\n",
      "2      3        200         200          0             3           15     0\n",
      "3      4        200         200        100             3           17     0\n",
      "4      5        400         400        400             4           20     0\n",
      "   LEVEL  WOOD_COST  STONE_COST  IRON_COST  MAX_VILLAGER  MAX_STORAGE  PROD\n",
      "0      1        100         100          0             2           10    20\n",
      "1      2        200         100          0             2           12    20\n",
      "2      3        200         200          0             3           15    20\n",
      "3      4        200         200        100             3           17    50\n",
      "4      5        400         400        400             4           20    50\n",
      "   LEVEL  WOOD_COST  STONE_COST  IRON_COST  MAX_VILLAGER  MAX_STORAGE  PROD\n",
      "0      1        100         100          0             2           10     0\n",
      "1      2        200         100          0             2           12     0\n",
      "2      3        200         200          0             3           15     0\n",
      "3      4        200         200        100             3           17     0\n",
      "4      5        400         400        400             4           20     0\n"
     ]
    }
   ],
   "source": [
    "import pandas as pd\n",
    "from json import dump\n",
    "\n",
    "dic_full = {}\n",
    "\n",
    "for ind_sheet in range(0, 9):\n",
    "    # Chargement des descriptions\n",
    "    data_desc = pd.read_excel(\"bases.xlsx\", nrows=1, sheet_name=ind_sheet)\n",
    "    data_desc = data_desc[[\"ID\", \"NAME\", \"DESC\", \"PROD_TYPE\"]]\n",
    "\n",
    "    # Chargement des statistiques\n",
    "    data_level = pd.read_excel(\"buildings.xlsx\", skiprows=4, sheet_name=ind_sheet)\n",
    "    print(data_level)\n",
    "    # Transformation en dic\n",
    "    dic_desc = data_desc.to_dict('records')\n",
    "    dic_level = data_level.to_dict('records')\n",
    "    dic_full[ind_sheet] = {'INFO': dic_desc[0], 'STATS': dic_level}\n",
    "\n",
    "# Ecriture du fichier\n",
    "with open('buildings.json', 'w') as outfile:\n",
    "    dump([dic_full.get(key) for key in dic_full], outfile, indent=4)"
   ]
  },
  {
   "cell_type": "code",
   "execution_count": null,
   "id": "ff0a78a5",
   "metadata": {},
   "outputs": [],
   "source": []
  },
  {
   "cell_type": "code",
   "execution_count": null,
   "id": "8f924002",
   "metadata": {},
   "outputs": [],
   "source": []
  }
 ],
 "metadata": {
  "kernelspec": {
   "display_name": "Python 3",
   "language": "python",
   "name": "python3"
  },
  "language_info": {
   "codemirror_mode": {
    "name": "ipython",
    "version": 3
   },
   "file_extension": ".py",
   "mimetype": "text/x-python",
   "name": "python",
   "nbconvert_exporter": "python",
   "pygments_lexer": "ipython3",
   "version": "3.8.8"
  }
 },
 "nbformat": 4,
 "nbformat_minor": 5
}
