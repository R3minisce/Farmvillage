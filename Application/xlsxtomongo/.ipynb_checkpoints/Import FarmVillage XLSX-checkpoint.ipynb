{
 "cells": [
  {
   "cell_type": "code",
   "execution_count": 2,
   "id": "24a0ce51",
   "metadata": {},
   "outputs": [],
   "source": [
    "import pandas as pd\n",
    "from json import loads, dumps,  dump"
   ]
  },
  {
   "cell_type": "code",
   "execution_count": 3,
   "id": "c92276dc",
   "metadata": {},
   "outputs": [],
   "source": [
    "data_full = pd.read_excel(\"buildings.xlsx\")"
   ]
  },
  {
   "cell_type": "code",
   "execution_count": null,
   "id": "f9493d48",
   "metadata": {},
   "outputs": [],
   "source": []
  },
  {
   "cell_type": "code",
   "execution_count": 4,
   "id": "61e3d9fc",
   "metadata": {},
   "outputs": [
    {
     "data": {
      "text/html": [
       "<div>\n",
       "<style scoped>\n",
       "    .dataframe tbody tr th:only-of-type {\n",
       "        vertical-align: middle;\n",
       "    }\n",
       "\n",
       "    .dataframe tbody tr th {\n",
       "        vertical-align: top;\n",
       "    }\n",
       "\n",
       "    .dataframe thead th {\n",
       "        text-align: right;\n",
       "    }\n",
       "</style>\n",
       "<table border=\"1\" class=\"dataframe\">\n",
       "  <thead>\n",
       "    <tr style=\"text-align: right;\">\n",
       "      <th></th>\n",
       "      <th>ID</th>\n",
       "      <th>NAME</th>\n",
       "      <th>DESC</th>\n",
       "    </tr>\n",
       "  </thead>\n",
       "  <tbody>\n",
       "    <tr>\n",
       "      <th>0</th>\n",
       "      <td>B_01</td>\n",
       "      <td>HQ</td>\n",
       "      <td>some desc</td>\n",
       "    </tr>\n",
       "  </tbody>\n",
       "</table>\n",
       "</div>"
      ],
      "text/plain": [
       "     ID NAME       DESC\n",
       "0  B_01   HQ  some desc"
      ]
     },
     "execution_count": 4,
     "metadata": {},
     "output_type": "execute_result"
    }
   ],
   "source": [
    "data_desc = pd.read_excel(\"buildings.xlsx\", nrows=1)\n",
    "data_desc = data_desc[[\"ID\", \"NAME\", \"DESC\"]]\n",
    "data_desc"
   ]
  },
  {
   "cell_type": "code",
   "execution_count": 5,
   "id": "f273c57e",
   "metadata": {},
   "outputs": [
    {
     "data": {
      "text/html": [
       "<div>\n",
       "<style scoped>\n",
       "    .dataframe tbody tr th:only-of-type {\n",
       "        vertical-align: middle;\n",
       "    }\n",
       "\n",
       "    .dataframe tbody tr th {\n",
       "        vertical-align: top;\n",
       "    }\n",
       "\n",
       "    .dataframe thead th {\n",
       "        text-align: right;\n",
       "    }\n",
       "</style>\n",
       "<table border=\"1\" class=\"dataframe\">\n",
       "  <thead>\n",
       "    <tr style=\"text-align: right;\">\n",
       "      <th></th>\n",
       "      <th>LEVEL</th>\n",
       "      <th>WOOD_COST</th>\n",
       "      <th>STONE_COST</th>\n",
       "      <th>IRON_COST</th>\n",
       "      <th>MAX_VILLAGER</th>\n",
       "      <th>MAX_STORAGE</th>\n",
       "      <th>PROD</th>\n",
       "    </tr>\n",
       "  </thead>\n",
       "  <tbody>\n",
       "    <tr>\n",
       "      <th>0</th>\n",
       "      <td>1</td>\n",
       "      <td>0</td>\n",
       "      <td>0</td>\n",
       "      <td>0</td>\n",
       "      <td>0</td>\n",
       "      <td>0</td>\n",
       "      <td>2</td>\n",
       "    </tr>\n",
       "    <tr>\n",
       "      <th>1</th>\n",
       "      <td>2</td>\n",
       "      <td>100</td>\n",
       "      <td>0</td>\n",
       "      <td>0</td>\n",
       "      <td>0</td>\n",
       "      <td>0</td>\n",
       "      <td>2</td>\n",
       "    </tr>\n",
       "    <tr>\n",
       "      <th>2</th>\n",
       "      <td>3</td>\n",
       "      <td>100</td>\n",
       "      <td>100</td>\n",
       "      <td>0</td>\n",
       "      <td>0</td>\n",
       "      <td>0</td>\n",
       "      <td>4</td>\n",
       "    </tr>\n",
       "    <tr>\n",
       "      <th>3</th>\n",
       "      <td>4</td>\n",
       "      <td>400</td>\n",
       "      <td>400</td>\n",
       "      <td>100</td>\n",
       "      <td>0</td>\n",
       "      <td>0</td>\n",
       "      <td>4</td>\n",
       "    </tr>\n",
       "    <tr>\n",
       "      <th>4</th>\n",
       "      <td>5</td>\n",
       "      <td>800</td>\n",
       "      <td>800</td>\n",
       "      <td>800</td>\n",
       "      <td>0</td>\n",
       "      <td>0</td>\n",
       "      <td>6</td>\n",
       "    </tr>\n",
       "  </tbody>\n",
       "</table>\n",
       "</div>"
      ],
      "text/plain": [
       "   LEVEL  WOOD_COST  STONE_COST  IRON_COST  MAX_VILLAGER  MAX_STORAGE  PROD\n",
       "0      1          0           0          0             0            0     2\n",
       "1      2        100           0          0             0            0     2\n",
       "2      3        100         100          0             0            0     4\n",
       "3      4        400         400        100             0            0     4\n",
       "4      5        800         800        800             0            0     6"
      ]
     },
     "execution_count": 5,
     "metadata": {},
     "output_type": "execute_result"
    }
   ],
   "source": [
    "data_level = pd.read_excel(\"buildings.xlsx\", skiprows=4)\n",
    "data_level"
   ]
  },
  {
   "cell_type": "code",
   "execution_count": null,
   "id": "156f6e40",
   "metadata": {},
   "outputs": [],
   "source": []
  },
  {
   "cell_type": "code",
   "execution_count": 7,
   "id": "6e16e613",
   "metadata": {},
   "outputs": [
    {
     "data": {
      "text/plain": [
       "{'ID': 'B_01', 'NAME': 'HQ', 'DESC': 'some desc'}"
      ]
     },
     "execution_count": 7,
     "metadata": {},
     "output_type": "execute_result"
    }
   ],
   "source": [
    "dic_desc = data_desc.to_dict('records')\n",
    "dic_desc[0]"
   ]
  },
  {
   "cell_type": "code",
   "execution_count": 13,
   "id": "aa461d95",
   "metadata": {},
   "outputs": [
    {
     "data": {
      "text/plain": [
       "[{'LEVEL': 1,\n",
       "  'WOOD_COST': 0,\n",
       "  'STONE_COST': 0,\n",
       "  'IRON_COST': 0,\n",
       "  'MAX_VILLAGER': 0,\n",
       "  'MAX_STORAGE': 0,\n",
       "  'PROD': 2},\n",
       " {'LEVEL': 2,\n",
       "  'WOOD_COST': 100,\n",
       "  'STONE_COST': 0,\n",
       "  'IRON_COST': 0,\n",
       "  'MAX_VILLAGER': 0,\n",
       "  'MAX_STORAGE': 0,\n",
       "  'PROD': 2},\n",
       " {'LEVEL': 3,\n",
       "  'WOOD_COST': 100,\n",
       "  'STONE_COST': 100,\n",
       "  'IRON_COST': 0,\n",
       "  'MAX_VILLAGER': 0,\n",
       "  'MAX_STORAGE': 0,\n",
       "  'PROD': 4},\n",
       " {'LEVEL': 4,\n",
       "  'WOOD_COST': 400,\n",
       "  'STONE_COST': 400,\n",
       "  'IRON_COST': 100,\n",
       "  'MAX_VILLAGER': 0,\n",
       "  'MAX_STORAGE': 0,\n",
       "  'PROD': 4},\n",
       " {'LEVEL': 5,\n",
       "  'WOOD_COST': 800,\n",
       "  'STONE_COST': 800,\n",
       "  'IRON_COST': 800,\n",
       "  'MAX_VILLAGER': 0,\n",
       "  'MAX_STORAGE': 0,\n",
       "  'PROD': 6}]"
      ]
     },
     "execution_count": 13,
     "metadata": {},
     "output_type": "execute_result"
    }
   ],
   "source": [
    "dic_level = data_level.to_dict('records')\n",
    "dic_level"
   ]
  },
  {
   "cell_type": "code",
   "execution_count": 9,
   "id": "b6892dc2",
   "metadata": {},
   "outputs": [],
   "source": [
    "dic_full = {'INFO': dic_desc[0], 'STATS': dic_level}"
   ]
  },
  {
   "cell_type": "code",
   "execution_count": 10,
   "id": "6d653e43",
   "metadata": {},
   "outputs": [
    {
     "data": {
      "text/plain": [
       "{'INFO': {'ID': 'B_01', 'NAME': 'HQ', 'DESC': 'some desc'},\n",
       " 'STATS': [{'LEVEL': 1,\n",
       "   'WOOD_COST': 0,\n",
       "   'STONE_COST': 0,\n",
       "   'IRON_COST': 0,\n",
       "   'MAX_VILLAGER': 0,\n",
       "   'MAX_STORAGE': 0,\n",
       "   'PROD': 2},\n",
       "  {'LEVEL': 2,\n",
       "   'WOOD_COST': 100,\n",
       "   'STONE_COST': 0,\n",
       "   'IRON_COST': 0,\n",
       "   'MAX_VILLAGER': 0,\n",
       "   'MAX_STORAGE': 0,\n",
       "   'PROD': 2},\n",
       "  {'LEVEL': 3,\n",
       "   'WOOD_COST': 100,\n",
       "   'STONE_COST': 100,\n",
       "   'IRON_COST': 0,\n",
       "   'MAX_VILLAGER': 0,\n",
       "   'MAX_STORAGE': 0,\n",
       "   'PROD': 4},\n",
       "  {'LEVEL': 4,\n",
       "   'WOOD_COST': 400,\n",
       "   'STONE_COST': 400,\n",
       "   'IRON_COST': 100,\n",
       "   'MAX_VILLAGER': 0,\n",
       "   'MAX_STORAGE': 0,\n",
       "   'PROD': 4},\n",
       "  {'LEVEL': 5,\n",
       "   'WOOD_COST': 800,\n",
       "   'STONE_COST': 800,\n",
       "   'IRON_COST': 800,\n",
       "   'MAX_VILLAGER': 0,\n",
       "   'MAX_STORAGE': 0,\n",
       "   'PROD': 6}]}"
      ]
     },
     "execution_count": 10,
     "metadata": {},
     "output_type": "execute_result"
    }
   ],
   "source": [
    "dic_full"
   ]
  },
  {
   "cell_type": "code",
   "execution_count": 239,
   "id": "1be8c902",
   "metadata": {},
   "outputs": [],
   "source": []
  },
  {
   "cell_type": "code",
   "execution_count": 240,
   "id": "66a77bb8",
   "metadata": {},
   "outputs": [],
   "source": [
    "\n"
   ]
  },
  {
   "cell_type": "code",
   "execution_count": 242,
   "id": "2759d733",
   "metadata": {},
   "outputs": [],
   "source": [
    "name = dic_desc[0][\"NAME\"]\n",
    "with open(f'{name}.txt', 'w') as outfile:\n",
    "    dump(dic_full, outfile, indent=4)"
   ]
  },
  {
   "cell_type": "code",
   "execution_count": null,
   "id": "7d1fdea6",
   "metadata": {},
   "outputs": [],
   "source": []
  },
  {
   "cell_type": "code",
   "execution_count": null,
   "id": "6e5cff94",
   "metadata": {},
   "outputs": [],
   "source": []
  }
 ],
 "metadata": {
  "kernelspec": {
   "display_name": "Python 3",
   "language": "python",
   "name": "python3"
  },
  "language_info": {
   "codemirror_mode": {
    "name": "ipython",
    "version": 3
   },
   "file_extension": ".py",
   "mimetype": "text/x-python",
   "name": "python",
   "nbconvert_exporter": "python",
   "pygments_lexer": "ipython3",
   "version": "3.8.8"
  }
 },
 "nbformat": 4,
 "nbformat_minor": 5
}
